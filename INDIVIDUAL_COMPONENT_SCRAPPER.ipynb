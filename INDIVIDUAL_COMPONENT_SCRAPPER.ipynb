{
  "nbformat": 4,
  "nbformat_minor": 0,
  "metadata": {
    "colab": {
      "name": "INDIVIDUAL_COMPONENT_SCRAPPER.ipynb",
      "provenance": [],
      "collapsed_sections": [],
      "authorship_tag": "ABX9TyOcH+G80m9Dvi5y25KvttVi",
      "include_colab_link": true
    },
    "kernelspec": {
      "name": "python3",
      "display_name": "Python 3"
    },
    "language_info": {
      "name": "python"
    }
  },
  "cells": [
    {
      "cell_type": "markdown",
      "metadata": {
        "id": "view-in-github",
        "colab_type": "text"
      },
      "source": [
        "<a href=\"https://colab.research.google.com/github/rameshavinash94/cmpe257_final_exam/blob/main/INDIVIDUAL_COMPONENT_SCRAPPER.ipynb\" target=\"_parent\"><img src=\"https://colab.research.google.com/assets/colab-badge.svg\" alt=\"Open In Colab\"/></a>"
      ]
    },
    {
      "cell_type": "markdown",
      "source": [
        "## **TESTING DATA SCRAPING/EXTRACTING ONE BY ONE AND FINALLY COMBINE TO A SINGLE DATA EXTRACTOR CLASS**"
      ],
      "metadata": {
        "id": "5CzzFsEK5jvq"
      }
    },
    {
      "cell_type": "markdown",
      "source": [
        "**financialmodelingprep**"
      ],
      "metadata": {
        "id": "edZqwMHv4z00"
      }
    },
    {
      "cell_type": "code",
      "source": [
        "import requests\n",
        "def financialmodelingprep(ticker):\n",
        "  company_ticker_name=ticker\n",
        "  url = (\"https://financialmodelingprep.com/api/v3/profile/{company_ticker_name}?apikey=313947d8a8586e2c95e019557dc4f8ce\").format(company_ticker_name=company_ticker_name)\n",
        "  response = requests.get(url)\n",
        "  data = dict(response.json()[0])\n",
        "  financial_data=''\n",
        "  for x,y in data.items():\n",
        "    info='{x} is {y}.'.format(x=x,y=y)\n",
        "    financial_data+=info\n",
        "  return financial_data"
      ],
      "metadata": {
        "id": "WNFd9rmRjXy0"
      },
      "execution_count": null,
      "outputs": []
    },
    {
      "cell_type": "code",
      "source": [
        "financial_data=financialmodelingprep('AAPL')"
      ],
      "metadata": {
        "id": "qA9jB7gek6ci"
      },
      "execution_count": null,
      "outputs": []
    },
    {
      "cell_type": "code",
      "source": [
        "financial_data"
      ],
      "metadata": {
        "colab": {
          "base_uri": "https://localhost:8080/",
          "height": 143
        },
        "id": "MK96Qnbyk8Pe",
        "outputId": "3deb659c-7e34-402f-ab61-539148642f66"
      },
      "execution_count": null,
      "outputs": [
        {
          "output_type": "execute_result",
          "data": {
            "text/plain": [
              "'symbol is AAPL.price is 143.11.beta is 1.194642.volAvg is 98319826.mktCap is 2316264013824.lastDiv is 0.89.range is 123.13-182.94.changes is 5.5200043.companyName is Apple Inc..currency is USD.cik is 0000320193.isin is US0378331005.cusip is 037833100.exchange is NASDAQ Global Select.exchangeShortName is NASDAQ.industry is Consumer Electronics.website is https://www.apple.com.description is Apple Inc. designs, manufactures, and markets smartphones, personal computers, tablets, wearables, and accessories worldwide. It also sells various related services. In addition, the company offers iPhone, a line of smartphones; Mac, a line of personal computers; iPad, a line of multi-purpose tablets; AirPods Max, an over-ear wireless headphone; and wearables, home, and accessories comprising AirPods, Apple TV, Apple Watch, Beats products, HomePod, and iPod touch. Further, it provides AppleCare support services; cloud services store services; and operates various platforms, including the App Store that allow customers to discover and download applications and digital content, such as books, music, video, games, and podcasts. Additionally, the company offers various services, such as Apple Arcade, a game subscription service; Apple Music, which offers users a curated listening experience with on-demand radio stations; Apple News+, a subscription news and magazine service; Apple TV+, which offers exclusive original content; Apple Card, a co-branded credit card; and Apple Pay, a cashless payment service, as well as licenses its intellectual property. The company serves consumers, and small and mid-sized businesses; and the education, enterprise, and government markets. It distributes third-party applications for its products through the App Store. The company also sells its products through its retail and online stores, and direct sales force; and third-party cellular network carriers, wholesalers, retailers, and resellers. Apple Inc. was incorporated in 1977 and is headquartered in Cupertino, California..ceo is Mr. Timothy Cook.sector is Technology.country is US.fullTimeEmployees is 154000.phone is 14089961010.address is 1 Apple Park Way.city is Cupertino.state is CALIFORNIA.zip is 95014.dcfDiff is 2.07176.dcf is 145.182.image is https://financialmodelingprep.com/image-stock/AAPL.png.ipoDate is 1980-12-12.defaultImage is False.isEtf is False.isActivelyTrading is True.isAdr is False.isFund is False.'"
            ],
            "application/vnd.google.colaboratory.intrinsic+json": {
              "type": "string"
            }
          },
          "metadata": {},
          "execution_count": 8
        }
      ]
    },
    {
      "cell_type": "markdown",
      "source": [
        "**PEOPLESDATA API**"
      ],
      "metadata": {
        "id": "VVwq3XqguSu7"
      }
    },
    {
      "cell_type": "code",
      "execution_count": null,
      "metadata": {
        "id": "B7dw1TxhVnsh"
      },
      "outputs": [],
      "source": [
        "import requests\n",
        "import json\n",
        "def peoples_data_func(company):\n",
        "  url = \"https://api.peopledatalabs.com/v5/company/clean?name={company}&pretty=true\".format(company=company)\n",
        "  headers = {\n",
        "      \"Accept\": \"application/json\",\n",
        "      \"Content-Type\": \"application/json\",\n",
        "      \"X-API-Key\": \"867056d7d2fc1e150e9bd1311d870526d75070f45edf045331edf8d7bb72d097\"\n",
        "  }\n",
        "  PEOPLESDATA = requests.get(url, headers=headers)\n",
        "  json_object = json.dumps(PEOPLESDATA.json())\n",
        "  with open(\"people_data.json\", \"w\") as outfile:\n",
        "    outfile.write(json_object)\n",
        "  peoples_dict= dict(json.load(open('people_data.json')))\n",
        "  peoples_data=''\n",
        "  finance_data=''\n",
        "  for x,y in peoples_dict.items():\n",
        "    if x=='ticker' and y!=None:\n",
        "      finance_data = financialmodelingprep(y)\n",
        "    if x!='status' and y!=None and x!='location':\n",
        "      info='{x} is {y}.'.format(x=x,y=y)\n",
        "      peoples_data+=info\n",
        "  if x=='location':\n",
        "    for z,c in y.items():\n",
        "      info='{z} is {c}.'.format(z=z,c=c)\n",
        "      peoples_data+=info\n",
        "  if finance_data!='':\n",
        "    return peoples_data,finance_data\n",
        "  else:\n",
        "    return peoples_data"
      ]
    },
    {
      "cell_type": "code",
      "source": [
        "peoples_data_values = peoples_data_func('quillbot')\n",
        "if (type(peoples_data_values) == type((\"apple\", \"banana\", \"cherry\"))):\n",
        "  peoples_data, financial_data = peoples_data_values\n",
        "else:\n",
        "  peoples_data = peoples_data_values\n",
        "  financial_data=''"
      ],
      "metadata": {
        "id": "C_aecZRik-_M"
      },
      "execution_count": null,
      "outputs": []
    },
    {
      "cell_type": "code",
      "source": [
        "financial_data"
      ],
      "metadata": {
        "colab": {
          "base_uri": "https://localhost:8080/",
          "height": 35
        },
        "id": "h7kRuUFMn7dW",
        "outputId": "2ccbec96-152e-404d-9d77-21f3868dcb7a"
      },
      "execution_count": null,
      "outputs": [
        {
          "output_type": "execute_result",
          "data": {
            "text/plain": [
              "''"
            ],
            "application/vnd.google.colaboratory.intrinsic+json": {
              "type": "string"
            }
          },
          "metadata": {},
          "execution_count": 11
        }
      ]
    },
    {
      "cell_type": "code",
      "source": [
        "peoples_data"
      ],
      "metadata": {
        "colab": {
          "base_uri": "https://localhost:8080/",
          "height": 53
        },
        "id": "5EAtzXjYnH5D",
        "outputId": "c83c4dab-bdde-4976-b48d-f136bec999ec"
      },
      "execution_count": null,
      "outputs": [
        {
          "output_type": "execute_result",
          "data": {
            "text/plain": [
              "\"name is quillbot.size is 11-50.id is quillbot.industry is computer software.linkedin_url is linkedin.com/company/quillbot.linkedin_id is 14811938.website is quillbot.com.type is private.raw is ['quillbot'].score is 1.0.fuzzy_match is True.\""
            ],
            "application/vnd.google.colaboratory.intrinsic+json": {
              "type": "string"
            }
          },
          "metadata": {},
          "execution_count": 12
        }
      ]
    },
    {
      "cell_type": "markdown",
      "source": [
        "**NEWSAPI**"
      ],
      "metadata": {
        "id": "M5caX_7ZuVhn"
      }
    },
    {
      "cell_type": "code",
      "source": [
        "import pandas as pd\n",
        "pd.set_option('display.max_colwidth', None)"
      ],
      "metadata": {
        "id": "Plyg9IzFbfvA"
      },
      "execution_count": null,
      "outputs": []
    },
    {
      "cell_type": "code",
      "source": [
        "import requests\n",
        "import json\n",
        "import pandas as pd\n",
        "def fetch_news(company):\n",
        "  url = ('https://newsapi.org/v2/everything?'\n",
        "       'q={company}&'\n",
        "       'sortBy=popularity&'\n",
        "       'apiKey=78f8b5ac018e4c568badb6877ac4f778').format(company=company)\n",
        "  response = requests.get(url)\n",
        "  news_data = response.json()\n",
        "  json_object = json.dumps(news_data)\n",
        "  with open(\"news.json\", \"w\") as outfile:\n",
        "    outfile.write(json_object) \n",
        "  df = pd.read_json('/content/news.json')\n",
        "  news_data = pd.json_normalize(news_data,record_path=['articles']).iloc[:10,:]\n",
        "  return news_data\n",
        "\n",
        "company=\"quillbot\"\n",
        "news_api_df = fetch_news(\"quillbot\")"
      ],
      "metadata": {
        "id": "LMyfvHAttyRA"
      },
      "execution_count": null,
      "outputs": []
    },
    {
      "cell_type": "code",
      "source": [
        "data = news_api_df['title'] + '.' + news_api_df['description']"
      ],
      "metadata": {
        "id": "efTlLRjlao-S"
      },
      "execution_count": null,
      "outputs": []
    },
    {
      "cell_type": "code",
      "source": [
        "news_info = str('\\n'.join(data.values))"
      ],
      "metadata": {
        "id": "o_p5smPBboMJ"
      },
      "execution_count": null,
      "outputs": []
    },
    {
      "cell_type": "code",
      "source": [
        "print(news_info)"
      ],
      "metadata": {
        "colab": {
          "base_uri": "https://localhost:8080/"
        },
        "id": "x_00sIdTfM25",
        "outputId": "c87d689c-5a87-4936-c24a-c9fdfc5115fe"
      },
      "execution_count": null,
      "outputs": [
        {
          "output_type": "stream",
          "name": "stdout",
          "text": [
            "6 Examples Of Marketing Tools Using Artificial Intelligence (AI).Artificial intelligence (AI) is quickly becoming one of the most popular marketing buzzwords. And for good reason – AI can help us automate repetitive tasks, personalize marketing efforts, and make better decisions, faster! When it comes to increasing brand v…\n",
            "Best Online Spellchecker – Free and Paid Options.Have you experienced publishing a blog post only to find out there’s a typo in the introduction? Then you should find a program that corrects these writing errors.  Whether you write for business or academic purposes, checking your spelling and grammar is alw…\n",
            "Best Free and Paid Plagiarism Checkers.Running your work on a plagiarism checker to look for duplicate content is essential before publishing it online. Otherwise, you can get sued for intellectual fraud or theft.  I carefully selected the best plagiarism checker for students, professional writers…\n",
            "New Developments At SuRo Capital.This is an update to a previous SuRo Capital article I published in December 2020. Read more to see the fund performance, recent distribution, and portfolio holdings.\n",
            "SuRo Capital's (SSSS) CEO Mark Klein on Q1 2022 Results - Earnings Call Transcript.SuRo Capital Corp. (NASDAQ:NASDAQ:SSSS) Q1 2022 Earnings Conference Call May 4, 2022 5:00 PM ETCompany ParticipantsWilly Lee – Investor RelationsMark Klein – Chairman and Chief Executive...\n",
            "7 AI-Powered Content Creation Tools for Social Media Managers.AI-powered content creation tools can't replace great writers — but they help writers and marketers save time and use their skills for more strategic aspects of content creation.\n"
          ]
        }
      ]
    },
    {
      "cell_type": "markdown",
      "source": [
        "**CRUNCHBASE SCRAPPER**"
      ],
      "metadata": {
        "id": "WgfEGlev0qXu"
      }
    },
    {
      "cell_type": "markdown",
      "source": [
        "**COMPANY_INFO**"
      ],
      "metadata": {
        "id": "WZ43IPSicZV-"
      }
    },
    {
      "cell_type": "code",
      "source": [
        "company=\"quillbot\"\n",
        "from bs4 import BeautifulSoup\n",
        "import requests\n",
        "\n",
        "company_description=\"\"\n",
        "url='https://www.crunchbase.com/organization/{company}'.format(company=company)\n",
        "headers = {\"User-Agent\": \"Mozilla/5.0 (Macintosh; Intel Mac OS X 10.14; rv:66.0) Gecko/20100101 Firefox/66.0\", \"Accept\": \"text/html,application/xhtml+xml,application/xml;q=0.9,*/*;q=0.8\", \"Accept-Language\": \"en-US,en;q=0.5\", \"Accept-Encoding\": \"gzip, deflate\", \"DNT\": \"1\", \"Connection\": \"close\", \"Upgrade-Insecure-Requests\": \"1\"}\n",
        "html_content = requests.get(url,headers=headers).text\n",
        "doc=BeautifulSoup(html_content,'html.parser')\n",
        "for div in doc.find_all('span',attrs={\"class\" :\"description\"}):\n",
        "  company_description+=div.text"
      ],
      "metadata": {
        "id": "01Y9qeGbcY49"
      },
      "execution_count": null,
      "outputs": []
    },
    {
      "cell_type": "code",
      "source": [
        "company_description"
      ],
      "metadata": {
        "colab": {
          "base_uri": "https://localhost:8080/",
          "height": 35
        },
        "id": "GIfrpoqSoZuc",
        "outputId": "b201362e-7da6-42c0-e514-1279254278e3"
      },
      "execution_count": null,
      "outputs": [
        {
          "output_type": "execute_result",
          "data": {
            "text/plain": [
              "''"
            ],
            "application/vnd.google.colaboratory.intrinsic+json": {
              "type": "string"
            }
          },
          "metadata": {},
          "execution_count": 19
        }
      ]
    },
    {
      "cell_type": "markdown",
      "source": [
        "**BOARD**"
      ],
      "metadata": {
        "id": "XOfh2X4aD_52"
      }
    },
    {
      "cell_type": "code",
      "source": [
        "company=\"quillbot\"\n",
        "from bs4 import BeautifulSoup\n",
        "import requests\n",
        "\n",
        "board_members=\"\"\n",
        "url='https://www.crunchbase.com/organization/{company}/people'.format(company=company)\n",
        "headers = {\"User-Agent\": \"Mozilla/5.0 (Macintosh; Intel Mac OS X 10.14; rv:66.0) Gecko/20100101 Firefox/66.0\", \"Accept\": \"text/html,application/xhtml+xml,application/xml;q=0.9,*/*;q=0.8\", \"Accept-Language\": \"en-US,en;q=0.5\", \"Accept-Encoding\": \"gzip, deflate\", \"DNT\": \"1\", \"Connection\": \"close\", \"Upgrade-Insecure-Requests\": \"1\"}\n",
        "html_content = requests.get(url,headers=headers).text\n",
        "doc=BeautifulSoup(html_content,'html.parser')\n",
        "for div in doc.find_all('div',attrs={\"class\" :\"fields\"}):\n",
        "  test=div.text\n",
        "  board_members+=str(test)+\".\""
      ],
      "metadata": {
        "id": "U_9Mw0Ds0uyL"
      },
      "execution_count": null,
      "outputs": []
    },
    {
      "cell_type": "code",
      "source": [
        "board_members"
      ],
      "metadata": {
        "colab": {
          "base_uri": "https://localhost:8080/",
          "height": 35
        },
        "id": "OCrL9OL1aUeG",
        "outputId": "d3e58ce9-f34a-4315-ce37-f1b187f73d5e"
      },
      "execution_count": null,
      "outputs": [
        {
          "output_type": "execute_result",
          "data": {
            "text/plain": [
              "''"
            ],
            "application/vnd.google.colaboratory.intrinsic+json": {
              "type": "string"
            }
          },
          "metadata": {},
          "execution_count": 21
        }
      ]
    },
    {
      "cell_type": "markdown",
      "source": [
        "**FUNDING**"
      ],
      "metadata": {
        "id": "EaexH19xEC8K"
      }
    },
    {
      "cell_type": "code",
      "source": [
        "company=\"quillbot\"\n",
        "from bs4 import BeautifulSoup\n",
        "import requests\n",
        "funding_data =\"\"\n",
        "url='https://www.crunchbase.com/organization/{company}/company_financials'.format(company=company)\n",
        "headers = {\"User-Agent\": \"Mozilla/5.0 (Macintosh; Intel Mac OS X 10.14; rv:66.0) Gecko/20100101 Firefox/66.0\", \"Accept\": \"text/html,application/xhtml+xml,application/xml;q=0.9,*/*;q=0.8\", \"Accept-Language\": \"en-US,en;q=0.5\", \"Accept-Encoding\": \"gzip, deflate\", \"DNT\": \"1\", \"Connection\": \"close\", \"Upgrade-Insecure-Requests\": \"1\"}\n",
        "html_content = requests.get(url,headers=headers).text\n",
        "doc=BeautifulSoup(html_content,'html.parser')\n",
        "for div in doc.find_all('a',attrs={\"class\" :\"link-primary\"}):\n",
        "  test=div.text.replace(u'\\xa0', u' is ')\n",
        "  funding_data+=str(test)+\".\""
      ],
      "metadata": {
        "id": "wRyX1aVhEPN1"
      },
      "execution_count": null,
      "outputs": []
    },
    {
      "cell_type": "code",
      "source": [
        "funding_data"
      ],
      "metadata": {
        "colab": {
          "base_uri": "https://localhost:8080/",
          "height": 35
        },
        "id": "P-TGqwiYZyDt",
        "outputId": "340c6c6c-0eb6-4a94-9450-bbc90bc58bdf"
      },
      "execution_count": null,
      "outputs": [
        {
          "output_type": "execute_result",
          "data": {
            "text/plain": [
              "''"
            ],
            "application/vnd.google.colaboratory.intrinsic+json": {
              "type": "string"
            }
          },
          "metadata": {},
          "execution_count": 23
        }
      ]
    },
    {
      "cell_type": "markdown",
      "source": [
        "**TECHNOLOGY**"
      ],
      "metadata": {
        "id": "F0v1QwHFFZmT"
      }
    },
    {
      "cell_type": "code",
      "source": [
        "company=\"quillbot\"\n",
        "from bs4 import BeautifulSoup\n",
        "import requests\n",
        "import re\n",
        "\n",
        "technology_data =\"\"\n",
        "url='https://www.crunchbase.com/organization/{company}/technology'.format(company=company)\n",
        "headers = {\"User-Agent\": \"Mozilla/5.0 (Macintosh; Intel Mac OS X 10.14; rv:66.0) Gecko/20100101 Firefox/66.0\", \"Accept\": \"text/html,application/xhtml+xml,application/xml;q=0.9,*/*;q=0.8\", \"Accept-Language\": \"en-US,en;q=0.5\", \"Accept-Encoding\": \"gzip, deflate\", \"DNT\": \"1\", \"Connection\": \"close\", \"Upgrade-Insecure-Requests\": \"1\"}\n",
        "html_content = requests.get(url,headers=headers).text\n",
        "doc=BeautifulSoup(html_content,'html.parser')\n",
        "for div in doc.find_all('a',attrs={\"class\" :re.compile(\"^link-primary$\")}):\n",
        "  if len(div['class'])==1:\n",
        "    test=div.text.replace(u'\\xa0', u' is ')\n",
        "    technology_data+=str(test)+\".\""
      ],
      "metadata": {
        "id": "bu_tan2gFptH"
      },
      "execution_count": null,
      "outputs": []
    },
    {
      "cell_type": "code",
      "source": [
        "technology_data"
      ],
      "metadata": {
        "colab": {
          "base_uri": "https://localhost:8080/",
          "height": 35
        },
        "id": "w4DHeK2YZxNx",
        "outputId": "8beb1adc-cc44-4029-c850-c6f26ddcf979"
      },
      "execution_count": null,
      "outputs": [
        {
          "output_type": "execute_result",
          "data": {
            "text/plain": [
              "''"
            ],
            "application/vnd.google.colaboratory.intrinsic+json": {
              "type": "string"
            }
          },
          "metadata": {},
          "execution_count": 25
        }
      ]
    },
    {
      "cell_type": "markdown",
      "source": [
        "**NEWS & SIGNAL**"
      ],
      "metadata": {
        "id": "WMD0ktuwJm-Y"
      }
    },
    {
      "cell_type": "code",
      "source": [
        "company=\"quillbot\"\n",
        "from bs4 import BeautifulSoup\n",
        "import requests\n",
        "import re\n",
        "\n",
        "news_signal_data =\"\"\n",
        "url='https://www.crunchbase.com/organization/{company}/signals_and_news'.format(company=company)\n",
        "headers = {'User-Agent': 'Mozilla/5.0 (Macintosh; Intel Mac OS X 10_10_1) AppleWebKit/537.36 (KHTML, like Gecko) Chrome/39.0.2171.95 Safari/537.36'}\n",
        "# headers = {\"User-Agent\": \"Mozilla/5.0 (Macintosh; Intel Mac OS X 10.14; rv:66.0) Gecko/20100101 Firefox/66.0\", \"Accept\": \"text/html,application/xhtml+xml,application/xml;q=0.9,*/*;q=0.8\", \"Accept-Language\": \"en-US,en;q=0.5\", \"Accept-Encoding\": \"gzip, deflate\", \"DNT\": \"1\", \"Connection\": \"close\", \"Upgrade-Insecure-Requests\": \"1\"}\n",
        "html_content = requests.get(url,headers=headers).text\n",
        "doc=BeautifulSoup(html_content,'html.parser')\n",
        "for div in doc.find_all('a',attrs={\"class\" :\"activity-url-title link-accent\"}):\n",
        "  test=div.text.replace(u'\\xa0', u' is ')\n",
        "  news_signal_data+=str(test)+\".\""
      ],
      "metadata": {
        "id": "JkPD0nowJmmq"
      },
      "execution_count": null,
      "outputs": []
    },
    {
      "cell_type": "code",
      "source": [
        "news_signal_data"
      ],
      "metadata": {
        "colab": {
          "base_uri": "https://localhost:8080/",
          "height": 35
        },
        "id": "Jt5JR4RCXrn2",
        "outputId": "721833b5-e357-4e7c-cec8-d138d9f73d93"
      },
      "execution_count": null,
      "outputs": [
        {
          "output_type": "execute_result",
          "data": {
            "text/plain": [
              "''"
            ],
            "application/vnd.google.colaboratory.intrinsic+json": {
              "type": "string"
            }
          },
          "metadata": {},
          "execution_count": 27
        }
      ]
    },
    {
      "cell_type": "markdown",
      "source": [
        "**SIMILAR COMPANIES**"
      ],
      "metadata": {
        "id": "8SuSsC6Pd9j1"
      }
    },
    {
      "cell_type": "code",
      "source": [
        "company=\"quillbot\"\n",
        "from bs4 import BeautifulSoup\n",
        "import requests\n",
        "import re\n",
        "\n",
        "similar_companies =\"\"\n",
        "url='https://www.crunchbase.com/organization/{company}/org_similarity_overview'.format(company=company)\n",
        "headers = {\"User-Agent\": \"Mozilla/5.0 (Macintosh; Intel Mac OS X 10.14; rv:66.0) Gecko/20100101 Firefox/66.0\", \"Accept\": \"text/html,application/xhtml+xml,application/xml;q=0.9,*/*;q=0.8\", \"Accept-Language\": \"en-US,en;q=0.5\", \"Accept-Encoding\": \"gzip, deflate\", \"DNT\": \"1\", \"Connection\": \"close\", \"Upgrade-Insecure-Requests\": \"1\"}\n",
        "html_content = requests.get(url,headers=headers).text\n",
        "doc=BeautifulSoup(html_content,'html.parser')\n",
        "for div in doc.find_all('phrase-list-card',attrs={\"class\" :\"ng-star-inserted\"}):\n",
        "  test=div.text.replace(u'\\xa0', u'')\n",
        "  similar_companies+=str(test)"
      ],
      "metadata": {
        "id": "MfTB4mMQd_Yx"
      },
      "execution_count": null,
      "outputs": []
    },
    {
      "cell_type": "code",
      "source": [
        "similar_companies"
      ],
      "metadata": {
        "colab": {
          "base_uri": "https://localhost:8080/",
          "height": 35
        },
        "id": "h6Lghhzqe6f1",
        "outputId": "3f33e2df-a14e-4c81-9a9e-6569fbc629bf"
      },
      "execution_count": null,
      "outputs": [
        {
          "output_type": "execute_result",
          "data": {
            "text/plain": [
              "''"
            ],
            "application/vnd.google.colaboratory.intrinsic+json": {
              "type": "string"
            }
          },
          "metadata": {},
          "execution_count": 29
        }
      ]
    },
    {
      "cell_type": "markdown",
      "source": [
        "**MERGE ALL DATA IN A SINGLE TEXT DOCUMENT**"
      ],
      "metadata": {
        "id": "yFMWK44Xi-tN"
      }
    },
    {
      "cell_type": "code",
      "source": [
        "Company_name=\"QuillBot\""
      ],
      "metadata": {
        "id": "eyfy57UZo7Pb"
      },
      "execution_count": null,
      "outputs": []
    },
    {
      "cell_type": "code",
      "source": [
        "amalgamated_data = Company_name+\":\"+\"\\n\"+company_description+\"\\n\"+board_members+\"\\n\"+funding_data+\"\\n\"+technology_data+\"\\n\"+news_signal_data+\"\\n\"+similar_companies+\"\\n\"+news_info+\"\\n\"+peoples_data+\"\\n\"+financial_data"
      ],
      "metadata": {
        "id": "zy5RWA-9oH2j"
      },
      "execution_count": null,
      "outputs": []
    },
    {
      "cell_type": "code",
      "source": [
        "print(amalgamated_data)"
      ],
      "metadata": {
        "colab": {
          "base_uri": "https://localhost:8080/"
        },
        "id": "eTpEdzjCjCPs",
        "outputId": "f095571c-b400-4785-e5a1-2c7f7966dfab"
      },
      "execution_count": null,
      "outputs": [
        {
          "output_type": "stream",
          "name": "stdout",
          "text": [
            "QuillBot:\n",
            "\n",
            "\n",
            "\n",
            "\n",
            "\n",
            "\n",
            "6 Examples Of Marketing Tools Using Artificial Intelligence (AI).Artificial intelligence (AI) is quickly becoming one of the most popular marketing buzzwords. And for good reason – AI can help us automate repetitive tasks, personalize marketing efforts, and make better decisions, faster! When it comes to increasing brand v…\n",
            "Best Online Spellchecker – Free and Paid Options.Have you experienced publishing a blog post only to find out there’s a typo in the introduction? Then you should find a program that corrects these writing errors.  Whether you write for business or academic purposes, checking your spelling and grammar is alw…\n",
            "Best Free and Paid Plagiarism Checkers.Running your work on a plagiarism checker to look for duplicate content is essential before publishing it online. Otherwise, you can get sued for intellectual fraud or theft.  I carefully selected the best plagiarism checker for students, professional writers…\n",
            "New Developments At SuRo Capital.This is an update to a previous SuRo Capital article I published in December 2020. Read more to see the fund performance, recent distribution, and portfolio holdings.\n",
            "SuRo Capital's (SSSS) CEO Mark Klein on Q1 2022 Results - Earnings Call Transcript.SuRo Capital Corp. (NASDAQ:NASDAQ:SSSS) Q1 2022 Earnings Conference Call May 4, 2022 5:00 PM ETCompany ParticipantsWilly Lee – Investor RelationsMark Klein – Chairman and Chief Executive...\n",
            "7 AI-Powered Content Creation Tools for Social Media Managers.AI-powered content creation tools can't replace great writers — but they help writers and marketers save time and use their skills for more strategic aspects of content creation.\n",
            "name is quillbot.size is 11-50.id is quillbot.industry is computer software.linkedin_url is linkedin.com/company/quillbot.linkedin_id is 14811938.website is quillbot.com.type is private.raw is ['quillbot'].score is 1.0.fuzzy_match is True.\n",
            "\n"
          ]
        }
      ]
    }
  ]
}